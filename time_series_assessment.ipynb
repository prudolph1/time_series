{
 "cells": [
  {
   "cell_type": "code",
   "execution_count": null,
   "metadata": {},
   "outputs": [],
   "source": [
    "'''\n",
    "Author: Patrick Rudolph\n",
    "Date: 1/8/20\n",
    "Description: basic time series models: SEM, Holt, SARIMA\n",
    "'''"
   ]
  },
  {
   "cell_type": "code",
   "execution_count": null,
   "metadata": {},
   "outputs": [],
   "source": [
    "import pandas as pd\n",
    "import numpy as np\n",
    "import matplotlib.pyplot as plt\n",
    "import seaborn as sns\n",
    "\n",
    "import statsmodels.tsa.stattools as ts\n",
    "from statsmodels.graphics.tsaplots import plot_acf, plot_pacf, month_plot, quarter_plot\n",
    "from statsmodels.tsa.seasonal import seasonal_decompose\n",
    "from statsmodels.tsa.stattools import adfuller\n",
    "\n",
    "filepath = '/data2/users/prudolph/ids/'\n",
    "\n",
    "plotsize = (13, 5)"
   ]
  },
  {
   "cell_type": "code",
   "execution_count": null,
   "metadata": {},
   "outputs": [],
   "source": [
    "# import sales file\n",
    "sales = pd.read_csv(filepath + 'sales_053967_9490.csv')"
   ]
  },
  {
   "cell_type": "code",
   "execution_count": null,
   "metadata": {},
   "outputs": [],
   "source": [
    "# drop unnecessary columns\n",
    "sales.drop(columns = ['STORE_ID','ARTICLE_ID','UNITS'], inplace = True)"
   ]
  },
  {
   "cell_type": "code",
   "execution_count": null,
   "metadata": {},
   "outputs": [],
   "source": [
    "# rename date column\n",
    "sales.rename({'MONTH_END_DATE':'DATE'}, axis = 'columns', inplace = True)"
   ]
  },
  {
   "cell_type": "code",
   "execution_count": null,
   "metadata": {},
   "outputs": [],
   "source": [
    "sales['DATE'] = pd.to_datetime(sales['DATE'])"
   ]
  },
  {
   "cell_type": "code",
   "execution_count": null,
   "metadata": {},
   "outputs": [],
   "source": [
    "sales.head()"
   ]
  },
  {
   "cell_type": "code",
   "execution_count": null,
   "metadata": {},
   "outputs": [],
   "source": [
    "# check months\n",
    "len(sales['DATE'].unique())"
   ]
  },
  {
   "cell_type": "code",
   "execution_count": null,
   "metadata": {},
   "outputs": [],
   "source": [
    "# check nulls\n",
    "sales.isnull().sum()"
   ]
  },
  {
   "cell_type": "code",
   "execution_count": null,
   "metadata": {},
   "outputs": [],
   "source": [
    "# set date index\n",
    "sales.set_index('DATE', inplace = True)"
   ]
  },
  {
   "cell_type": "code",
   "execution_count": null,
   "metadata": {},
   "outputs": [],
   "source": [
    "sales.head()"
   ]
  },
  {
   "cell_type": "code",
   "execution_count": null,
   "metadata": {},
   "outputs": [],
   "source": [
    "# plot series\n",
    "sales.plot(figsize=plotsize);"
   ]
  },
  {
   "cell_type": "code",
   "execution_count": null,
   "metadata": {},
   "outputs": [],
   "source": [
    "# ACF and PACF\n",
    "plot_acf(sales['UNITS_DAY'], lags = 12);\n",
    "plot_pacf(sales['UNITS_DAY'], lags = 12);"
   ]
  },
  {
   "cell_type": "code",
   "execution_count": null,
   "metadata": {},
   "outputs": [],
   "source": [
    "# seasonal plot\n",
    "month_plot(sales);"
   ]
  },
  {
   "cell_type": "code",
   "execution_count": null,
   "metadata": {},
   "outputs": [],
   "source": [
    "# violin plot\n",
    "sns.violinplot(x=sales.index.month, y=sales['UNITS_DAY'])\n",
    "plt.grid(b=True);"
   ]
  },
  {
   "cell_type": "code",
   "execution_count": null,
   "metadata": {},
   "outputs": [],
   "source": [
    "# convert to array\n",
    "sales_array = np.array(sales.iloc[:,0])"
   ]
  },
  {
   "cell_type": "code",
   "execution_count": null,
   "metadata": {},
   "outputs": [],
   "source": [
    "# decomp\n",
    "ss_decomposition = seasonal_decompose(x=sales_array, model='additive', freq=12)\n",
    "estimated_trend = ss_decomposition.trend\n",
    "estimated_seasonal = ss_decomposition.seasonal\n",
    "estimated_residual = ss_decomposition.resid"
   ]
  },
  {
   "cell_type": "code",
   "execution_count": null,
   "metadata": {},
   "outputs": [],
   "source": [
    "# decomp plot\n",
    "fig, axes = plt.subplots(4, 1, sharex=True, sharey=False)\n",
    "fig.set_figheight(10)\n",
    "fig.set_figwidth(15)\n",
    "\n",
    "axes[0].plot(sales_array, label='Original')\n",
    "axes[0].legend(loc='upper left');\n",
    "\n",
    "axes[1].plot(estimated_trend, label='Trend')\n",
    "axes[1].legend(loc='upper left');\n",
    "\n",
    "axes[2].plot(estimated_seasonal, label='Seasonality')\n",
    "axes[2].legend(loc='upper left');\n",
    "\n",
    "axes[3].plot(estimated_residual, label='Residuals')\n",
    "axes[3].legend(loc='upper left');"
   ]
  },
  {
   "cell_type": "code",
   "execution_count": null,
   "metadata": {},
   "outputs": [],
   "source": [
    "# split data into 12 chunks\n",
    "chunks = np.split(sales['UNITS_DAY'], indices_or_sections=12)"
   ]
  },
  {
   "cell_type": "code",
   "execution_count": null,
   "metadata": {},
   "outputs": [],
   "source": [
    "# check mean and variance over time\n",
    "mean_vals = np.mean(chunks,axis=1)\n",
    "var_vals = np.var(chunks,axis=1)\n",
    "vals = {'mean_vals': mean_vals , 'var_vals': var_vals}\n",
    "mean_var = pd.DataFrame(vals)\n",
    "mean_var"
   ]
  },
  {
   "cell_type": "code",
   "execution_count": null,
   "metadata": {},
   "outputs": [],
   "source": [
    "# plot rolling mean and variance\n",
    "def dftest(timeseries):\n",
    "    dftest = ts.adfuller(timeseries,)\n",
    "    dfoutput = pd.Series(dftest[0:4], \n",
    "                         index=['Test Statistic','p-value','Lags Used','Observations Used'])\n",
    "    for key,value in dftest[4].items():\n",
    "        dfoutput['Critical Value (%s)'%key] = value\n",
    "    print(dfoutput)\n",
    "    #Determing rolling statistics\n",
    "    rolmean = timeseries.rolling(window=12).mean()\n",
    "    rolstd = timeseries.rolling(window=12).std()\n",
    "\n",
    "    #Plot rolling statistics:\n",
    "    orig = plt.plot(timeseries, color='blue',label='Original')\n",
    "    mean = plt.plot(rolmean, color='red', label='Rolling Mean')\n",
    "    std = plt.plot(rolstd, color='black', label = 'Rolling Std')\n",
    "    plt.legend(loc='best')\n",
    "    plt.title('Rolling Mean and Standard Deviation')\n",
    "    plt.grid()\n",
    "    plt.show(block=False)"
   ]
  },
  {
   "cell_type": "code",
   "execution_count": null,
   "metadata": {},
   "outputs": [],
   "source": [
    "dftest(sales['UNITS_DAY'])"
   ]
  },
  {
   "cell_type": "code",
   "execution_count": null,
   "metadata": {},
   "outputs": [],
   "source": [
    "# stationarity (DF test)\n",
    "adf, pvalue, usedlag, nobs, critical_values, icbest = adfuller(sales_array)\n",
    "print(pvalue)"
   ]
  }
 ],
 "metadata": {
  "kernelspec": {
   "display_name": "Python 3",
   "language": "python",
   "name": "python3"
  },
  "language_info": {
   "codemirror_mode": {
    "name": "ipython",
    "version": 3
   },
   "file_extension": ".py",
   "mimetype": "text/x-python",
   "name": "python",
   "nbconvert_exporter": "python",
   "pygments_lexer": "ipython3",
   "version": "3.7.1"
  }
 },
 "nbformat": 4,
 "nbformat_minor": 2
}