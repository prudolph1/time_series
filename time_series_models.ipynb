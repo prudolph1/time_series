{
 "cells": [
  {
   "cell_type": "code",
   "execution_count": null,
   "metadata": {},
   "outputs": [],
   "source": [
    "'''\n",
    "Author: Patrick Rudolph\n",
    "Date: 1/8/20\n",
    "Description: basic time series models: SEM, Holt, SARIMA\n",
    "'''"
   ]
  },
  {
   "cell_type": "code",
   "execution_count": null,
   "metadata": {},
   "outputs": [],
   "source": [
    "import pandas as pd\n",
    "import numpy as np\n",
    "import matplotlib.pyplot as plt\n",
    "import seaborn as sns\n",
    "import math\n",
    "\n",
    "import statsmodels.api as sm\n",
    "from statsmodels.tsa.api import SimpleExpSmoothing\n",
    "from statsmodels.tsa.api import Holt\n",
    "from statsmodels.tsa.api import ExponentialSmoothing\n",
    "from sklearn.metrics import mean_squared_error\n",
    "from sklearn.metrics import mean_absolute_error\n",
    "from statsmodels.tsa.arima_model import ARIMA\n",
    "import pmdarima as pm\n",
    "import fbprophet\n",
    "\n",
    "plotsize = (13, 5)\n",
    "\n",
    "filepath = '/data2/users/prudolph/ids/'"
   ]
  },
  {
   "cell_type": "code",
   "execution_count": null,
   "metadata": {},
   "outputs": [],
   "source": [
    "# moving average function\n",
    "def moving_average(observations, window=3, forecast=False):\n",
    "    '''returns the smoothed version of an array of observations.'''\n",
    "    cumulative_sum = np.cumsum(observations, dtype=float)\n",
    "    cumulative_sum[window:] = cumulative_sum[window:] - cumulative_sum[:-window]\n",
    "    if forecast:\n",
    "        return np.insert(cumulative_sum[window - 1:] / window, 0, np.zeros(3))\n",
    "    else:\n",
    "        return cumulative_sum[window - 1:] / window"
   ]
  },
  {
   "cell_type": "code",
   "execution_count": null,
   "metadata": {},
   "outputs": [],
   "source": [
    "# actual vs. predicted plot\n",
    "def pred_plot(time, train, pred, title):\n",
    "    plt.figure(figsize = (13,5))\n",
    "    plt.plot(time[:-12], train, 'b--', label=\"Train\")\n",
    "    plt.plot(time[-12:], test, color='orange', linestyle=\"--\", label=\"Test\")\n",
    "    plt.plot(time[-12:], pred, 'r--', label=\"Predictions\")\n",
    "    plt.legend(loc='upper left')\n",
    "    plt.title(title)\n",
    "    plt.grid(alpha=0.3);"
   ]
  },
  {
   "cell_type": "code",
   "execution_count": null,
   "metadata": {},
   "outputs": [],
   "source": [
    "# cross validation\n",
    "def cross_validate(series,horizon,start,step_size,order = (1,0,0),seasonal_order = (0,0,0,0),trend=None):\n",
    "    '''\n",
    "    Function to determine in and out of sample testing of arima model    \n",
    "    \n",
    "    arguments\n",
    "    ---------\n",
    "    series (seris): time series input\n",
    "    horizon (int): how far in advance forecast is needed\n",
    "    start (int): starting location in series\n",
    "    step_size (int): how often to recalculate forecast\n",
    "    order (tuple): (p,d,q) order of the model\n",
    "    seasonal_order (tuple): (P,D,Q,s) seasonal order of model\n",
    "    \n",
    "    Returns\n",
    "    -------\n",
    "    DataFrame: gives fcst and actuals with date of prediction\n",
    "    '''\n",
    "    fcst = []\n",
    "    actual = []\n",
    "    date = []\n",
    "    for i in range(start,len(series)-horizon,step_size):\n",
    "        model = sm.tsa.statespace.SARIMAX(series[:i+1], #only using data through to and including start \n",
    "                                order=order, \n",
    "                                seasonal_order=seasonal_order, \n",
    "                                trend=trend).fit()\n",
    "        fcst.append(model.forecast(steps = horizon)[-1]) #forecasting horizon steps into the future\n",
    "        actual.append(series[i+horizon]) # comparing that to actual value at that point\n",
    "        date.append(series.index[i+horizon]) # saving date of that value\n",
    "    return pd.DataFrame({'fcst':fcst,'actual':actual},index=date)"
   ]
  },
  {
   "cell_type": "code",
   "execution_count": null,
   "metadata": {},
   "outputs": [],
   "source": [
    "# import data\n",
    "sales = pd.read_csv(filepath + 'sales_006070_244259.csv')\n",
    "sales.drop(columns = ['STORE_ID','ARTICLE_ID','UNITS'], inplace = True)\n",
    "sales.rename({'MONTH_END_DATE':'DATE'}, axis = 'columns', inplace = True)\n",
    "sales['DATE'] = pd.to_datetime(sales['DATE'])\n",
    "sales.set_index('DATE', inplace = True)"
   ]
  },
  {
   "cell_type": "code",
   "execution_count": null,
   "metadata": {},
   "outputs": [],
   "source": [
    "sales.head()"
   ]
  },
  {
   "cell_type": "code",
   "execution_count": null,
   "metadata": {},
   "outputs": [],
   "source": [
    "len(sales)"
   ]
  },
  {
   "cell_type": "code",
   "execution_count": null,
   "metadata": {},
   "outputs": [],
   "source": [
    "# train test split\n",
    "train = np.array(sales.iloc[:-12,0])\n",
    "test = np.array(sales.iloc[-12:,0])"
   ]
  },
  {
   "cell_type": "code",
   "execution_count": null,
   "metadata": {},
   "outputs": [],
   "source": [
    "# time series\n",
    "time = np.array(sales.reset_index()['DATE'])"
   ]
  },
  {
   "cell_type": "markdown",
   "metadata": {},
   "source": [
    "#### Simple Average"
   ]
  },
  {
   "cell_type": "code",
   "execution_count": null,
   "metadata": {},
   "outputs": [],
   "source": [
    "# find mean of series\n",
    "sales_avg = np.mean(sales)"
   ]
  },
  {
   "cell_type": "code",
   "execution_count": null,
   "metadata": {},
   "outputs": [],
   "source": [
    "# create array of mean value equal to length of time array\n",
    "simple_avg_preds = np.full(shape=len(test), fill_value=sales_avg, dtype='float')"
   ]
  },
  {
   "cell_type": "code",
   "execution_count": null,
   "metadata": {
    "scrolled": true
   },
   "outputs": [],
   "source": [
    "# MSE\n",
    "simple_mse = mean_squared_error(test, simple_avg_preds)\n",
    "\n",
    "print(\"Predictions: \", simple_avg_preds)\n",
    "print(\"MSE: \", simple_mse)"
   ]
  },
  {
   "cell_type": "code",
   "execution_count": null,
   "metadata": {},
   "outputs": [],
   "source": [
    "pred_plot(time, train, simple_avg_preds, 'Simple Avg')"
   ]
  },
  {
   "cell_type": "markdown",
   "metadata": {},
   "source": [
    "#### Simple Exponential Smoothing"
   ]
  },
  {
   "cell_type": "code",
   "execution_count": null,
   "metadata": {},
   "outputs": [],
   "source": [
    "# fit on training sample\n",
    "single = SimpleExpSmoothing(train).fit(optimized=True)"
   ]
  },
  {
   "cell_type": "code",
   "execution_count": null,
   "metadata": {},
   "outputs": [],
   "source": [
    "# forecast test sample\n",
    "single_preds = single.forecast(len(test))"
   ]
  },
  {
   "cell_type": "code",
   "execution_count": null,
   "metadata": {},
   "outputs": [],
   "source": [
    "# MSE\n",
    "single_mse = mean_squared_error(test, single_preds)\n",
    "print(\"Predictions: \", single_preds)\n",
    "print(\"MSE: \", single_mse)"
   ]
  },
  {
   "cell_type": "code",
   "execution_count": null,
   "metadata": {},
   "outputs": [],
   "source": [
    "pred_plot(time, train, single_preds, 'SES')"
   ]
  },
  {
   "cell_type": "markdown",
   "metadata": {},
   "source": [
    "#### Holt"
   ]
  },
  {
   "cell_type": "code",
   "execution_count": null,
   "metadata": {},
   "outputs": [],
   "source": [
    "# fit on training sample\n",
    "double = Holt(train).fit(optimized=True)"
   ]
  },
  {
   "cell_type": "code",
   "execution_count": null,
   "metadata": {},
   "outputs": [],
   "source": [
    "# forecast test sample\n",
    "double_preds = double.forecast(len(test))"
   ]
  },
  {
   "cell_type": "code",
   "execution_count": null,
   "metadata": {},
   "outputs": [],
   "source": [
    "# MSE\n",
    "double_mse = mean_squared_error(test, double_preds)\n",
    "print(\"Predictions: \", double_preds)\n",
    "print(\"MSE: \", double_mse)"
   ]
  },
  {
   "cell_type": "code",
   "execution_count": null,
   "metadata": {},
   "outputs": [],
   "source": [
    "pred_plot(time, train, double_preds, 'Holt')"
   ]
  },
  {
   "cell_type": "markdown",
   "metadata": {},
   "source": [
    "#### SARIMA"
   ]
  },
  {
   "cell_type": "code",
   "execution_count": null,
   "metadata": {},
   "outputs": [],
   "source": [
    "# training set (as pandas series)\n",
    "train = sales.loc[:'2019-01-01']"
   ]
  },
  {
   "cell_type": "code",
   "execution_count": null,
   "metadata": {},
   "outputs": [],
   "source": [
    "auto_arima_model = pm.auto_arima(train, \n",
    "                                 start_p=1, start_q=1, max_p=3, max_q=3, \n",
    "                                 seasonal=True, m=12, \n",
    "                                 start_P=0, \n",
    "                                 d=0, D=1, \n",
    "                                 trace=True,\n",
    "                           error_action='ignore',  \n",
    "                           suppress_warnings=True, \n",
    "                           stepwise=True)\n",
    "\n",
    "print('Lowest AIC:', auto_arima_model.aic())\n",
    "print('SARIMA Model:', auto_arima_model.order, auto_arima_model.seasonal_order)"
   ]
  },
  {
   "cell_type": "code",
   "execution_count": null,
   "metadata": {},
   "outputs": [],
   "source": [
    "# fit model\n",
    "model = sm.tsa.statespace.SARIMAX(train, \n",
    "                                order=(1,0,0)\n",
    "                                ,seasonal_order=(0,1,0,12)\n",
    "                                 )\n",
    "\n",
    "model_train = model.fit(disp=False)\n",
    "print(model_train.summary())"
   ]
  },
  {
   "cell_type": "code",
   "execution_count": null,
   "metadata": {},
   "outputs": [],
   "source": [
    "# plot residuals\n",
    "model_train.plot_diagnostics(lags=12,figsize = (20,10),);"
   ]
  },
  {
   "cell_type": "code",
   "execution_count": null,
   "metadata": {},
   "outputs": [],
   "source": [
    "# plot predictions\n",
    "pd.plotting.register_matplotlib_converters()\n",
    "#use model.predict() start and end in relation to series\n",
    "train_plot = sales.copy()\n",
    "train_plot['FORECAST'] = model_train.predict()  \n",
    "train_plot[['UNITS_DAY', 'FORECAST']][:-12].plot(figsize = (13,5));"
   ]
  },
  {
   "cell_type": "code",
   "execution_count": null,
   "metadata": {},
   "outputs": [],
   "source": [
    "# save model parameters from training dataset\n",
    "params_train = model_train.params"
   ]
  },
  {
   "cell_type": "code",
   "execution_count": null,
   "metadata": {},
   "outputs": [],
   "source": [
    "# fit model on full dataset using \n",
    "model = sm.tsa.statespace.SARIMAX(sales, \n",
    "                                order=(0,0,0), \n",
    "                                seasonal_order=(0,1,0,12)\n",
    "                                 )\n",
    "\n",
    "model_full = model.filter(params_train)"
   ]
  },
  {
   "cell_type": "code",
   "execution_count": null,
   "metadata": {},
   "outputs": [],
   "source": [
    "# one-step-ahead predictions\n",
    "predict = model_full.get_prediction()\n",
    "predict_ci = predict.conf_int()"
   ]
  },
  {
   "cell_type": "code",
   "execution_count": null,
   "metadata": {},
   "outputs": [],
   "source": [
    "# Plot data points\n",
    "sales.plot(style='o', label='Observed', figsize = (13,5))\n",
    "plt.axvline(x = '2019-01-01', color = 'y')\n",
    "\n",
    "# Plot predictions\n",
    "predict.predicted_mean.plot(style='r--', label='One-step-ahead forecast')\n",
    "plt.legend()\n",
    "\n",
    "plt.show()"
   ]
  },
  {
   "cell_type": "code",
   "execution_count": null,
   "metadata": {},
   "outputs": [],
   "source": [
    "# Dynamic predictions (need to debug)\n",
    "# predict_dy = res.get_prediction(dynamic='2019-01-01')\n",
    "# predict_dy_ci = predict_dy.conf_int()"
   ]
  },
  {
   "cell_type": "code",
   "execution_count": null,
   "metadata": {},
   "outputs": [],
   "source": [
    "pred_plot(time, train, predict.predicted_mean.loc['2019-01-01':], 'SARIMA')"
   ]
  },
  {
   "cell_type": "code",
   "execution_count": null,
   "metadata": {},
   "outputs": [],
   "source": [
    "# RMSE\n",
    "print('RMSE:',math.sqrt(mean_squared_error(sales.loc['2019-01-01':],predict.predicted_mean.loc['2019-01-01':])))\n",
    "print('MAE:',mean_squared_error(sales.loc['2019-01-01':],predict.predicted_mean.loc['2019-01-01':]))"
   ]
  },
  {
   "cell_type": "code",
   "execution_count": null,
   "metadata": {},
   "outputs": [],
   "source": []
  },
  {
   "cell_type": "code",
   "execution_count": null,
   "metadata": {},
   "outputs": [],
   "source": []
  }
 ],
 "metadata": {
  "kernelspec": {
   "display_name": "Python 3",
   "language": "python",
   "name": "python3"
  },
  "language_info": {
   "codemirror_mode": {
    "name": "ipython",
    "version": 3
   },
   "file_extension": ".py",
   "mimetype": "text/x-python",
   "name": "python",
   "nbconvert_exporter": "python",
   "pygments_lexer": "ipython3",
   "version": "3.7.1"
  }
 },
 "nbformat": 4,
 "nbformat_minor": 2
}
